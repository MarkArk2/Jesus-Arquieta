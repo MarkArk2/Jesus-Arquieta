{
  "nbformat": 4,
  "nbformat_minor": 0,
  "metadata": {
    "colab": {
      "provenance": []
    },
    "kernelspec": {
      "name": "python3",
      "display_name": "Python 3"
    },
    "language_info": {
      "name": "python"
    }
  },
  "cells": [
    {
      "cell_type": "code",
      "execution_count": null,
      "metadata": {
        "id": "W8-jJcrYWzN5"
      },
      "outputs": [],
      "source": [
        "Actividad: Ejercicios en Phyton\n",
        "Jesus Arquieta Maldonado 1930984 N1"
      ]
    },
    {
      "cell_type": "markdown",
      "source": [
        "**Ejercicios en Phyton**\n",
        "Ejercicio 1"
      ],
      "metadata": {
        "id": "OsXHJ7iMWz61"
      }
    },
    {
      "cell_type": "code",
      "source": [
        "# Ingresa el nombre\n",
        "nombre = input(\"¿Cuál es tu nombre? \")\n",
        "\n",
        "# Nombres excluidos\n",
        "if nombre in [\"Ana\", \"Juan\", \"Pedro\"]:\n",
        "    print(\"Lo siento, no puedo saludarte.\")\n",
        "else:\n",
        "    # Saludar si no esta en la lista\n",
        "    print(\"¡Hola, \" + nombre + \"!\")\n",
        "\n"
      ],
      "metadata": {
        "id": "T42ACoqsXffJ"
      },
      "execution_count": null,
      "outputs": []
    },
    {
      "cell_type": "markdown",
      "source": [
        "Ejercicio 2"
      ],
      "metadata": {
        "id": "bBvoztj1X7mV"
      }
    },
    {
      "cell_type": "code",
      "source": [
        "def invertir_lista():\n",
        "    # Pedir al usuario la cantidad de elementos que tendrá la lista\n",
        "    n = int(input(\"Ingrese la cantidad de elementos que tendrá la lista: \"))\n",
        "\n",
        "    # Pedir al usuario que ingrese los elementos de la lista\n",
        "    lista = []\n",
        "    for i in range(n):\n",
        "        elemento = input(\"Ingrese el elemento \" + str(i+1) + \" de la lista: \")\n",
        "        lista.append(elemento)\n",
        "\n",
        "    # Invertir la lista usando la función reverse()\n",
        "    lista.reverse()\n",
        "\n",
        "    # Imprimir la lista invertida\n",
        "    print(\"La lista invertida es:\", lista)\n"
      ],
      "metadata": {
        "id": "PWETIGOJagKq"
      },
      "execution_count": 24,
      "outputs": []
    },
    {
      "cell_type": "markdown",
      "source": [
        "Ejercicio 3"
      ],
      "metadata": {
        "id": "Gk6kOFUYakhR"
      }
    },
    {
      "cell_type": "code",
      "source": [
        "# Cantidad de números de la serie de Fibonacci \n",
        "n = int(input(\"¿Cuántos números de la serie de Fibonacci desea generar? \"))\n",
        "\n",
        "# Primeros numeros de la serie\n",
        "fibonacci = [0, 1]\n",
        "\n",
        "# Generar los números restantes de la serie\n",
        "for i in range(2, n):\n",
        "    fibonacci.append(fibonacci[i-1] + fibonacci[i-2])\n",
        "\n",
        "# Imprimir los números de la serie de Fibonacci\n",
        "print(\"Los primeros\", n, \"números de la serie de Fibonacci son:\")\n",
        "for num in fibonacci:\n",
        "    print(num)\n"
      ],
      "metadata": {
        "colab": {
          "base_uri": "https://localhost:8080/"
        },
        "id": "hU70F7u_aly9",
        "outputId": "f9352dd2-92e2-46e4-e787-02eeb9fa768d"
      },
      "execution_count": 23,
      "outputs": [
        {
          "output_type": "stream",
          "name": "stdout",
          "text": [
            "¿Cuántos números de la serie de Fibonacci desea generar? 3\n",
            "Los primeros 3 números de la serie de Fibonacci son:\n",
            "0\n",
            "1\n",
            "1\n"
          ]
        }
      ]
    }
  ]
}